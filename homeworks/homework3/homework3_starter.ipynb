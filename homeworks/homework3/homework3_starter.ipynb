{
 "cells": [
  {
   "cell_type": "markdown",
   "metadata": {},
   "source": [
    "# 12-752: Data-Driven Building Energy Management\n",
    "## Fall 2016, Carnegie Mellon University\n",
    "\n",
    "## Assignment \\#3"
   ]
  },
  {
   "cell_type": "markdown",
   "metadata": {},
   "source": [
    "We will begin by unpickling the dataset containing the loadCurves that we had used in Assignment \\#2. \n",
    "\n",
    "But first, as always, we will load most modules we will be using:"
   ]
  },
  {
   "cell_type": "code",
   "execution_count": 1,
   "metadata": {
    "collapsed": true
   },
   "outputs": [],
   "source": [
    "import numpy as np\n",
    "import matplotlib.pyplot as plt\n",
    "import pandas as pd\n",
    "import pickle\n",
    "\n",
    "%matplotlib inline"
   ]
  },
  {
   "cell_type": "markdown",
   "metadata": {},
   "source": [
    "Now let's load the load curve dataset:"
   ]
  },
  {
   "cell_type": "code",
   "execution_count": 2,
   "metadata": {
    "collapsed": false
   },
   "outputs": [],
   "source": [
    "pkf = open('../../lectures/data/loadCurves.pkl','rb')\n",
    "data,loadCurves = pickle.load(pkf)\n",
    "pkf.close()"
   ]
  },
  {
   "cell_type": "markdown",
   "metadata": {},
   "source": [
    "Because the dataset we have is not sufficient to run an interesting regression task, we will also load a temperature dataset which shows 5-minute interval temperatures measured on the rooftop of Margaret Morrison at CMU.\n",
    "\n",
    "You will find this dataset on BlackBoard. Download it and then load it into a new DataFrame called ```temperature```."
   ]
  },
  {
   "cell_type": "markdown",
   "metadata": {},
   "source": [
    "## Task \\#1 [10%]\n",
    "\n",
    "Create a new DataFrame with the temperature data, and set the index to be the Timestamp."
   ]
  },
  {
   "cell_type": "code",
   "execution_count": 3,
   "metadata": {
    "collapsed": false
   },
   "outputs": [],
   "source": [
    "# Your code goes here\n"
   ]
  },
  {
   "cell_type": "markdown",
   "metadata": {},
   "source": [
    "Since the power consumption time series has a different sampling frequency, we need to resample the datasets so that they have the same frequency."
   ]
  },
  {
   "cell_type": "markdown",
   "metadata": {},
   "source": [
    "## Task \\#2 [10%]:\n",
    "\n",
    "Resample the original ```data``` and ```temperature``` DataFrames to one sample every five minutes. You can use any resampling technique, though an averaging method is probably the most appropriate here."
   ]
  },
  {
   "cell_type": "code",
   "execution_count": 4,
   "metadata": {
    "collapsed": false
   },
   "outputs": [],
   "source": [
    "# Your code goes here...\n"
   ]
  },
  {
   "cell_type": "markdown",
   "metadata": {},
   "source": [
    "It may be easier to join both DataFrames into one. Let's do that."
   ]
  },
  {
   "cell_type": "markdown",
   "metadata": {},
   "source": [
    "## Task #3 [5%]:\n",
    "\n",
    "Create a new DataFrame called ```alldata``` which is an inner join of the temperature and power datasets (i.e. the rows of ```aldata``` will be those with a timestamp that is present in both the electric power time series *and* the temperature time series).\n",
    "\n",
    "For good measure, rename the columns of the resulting DataFrame to make them more descriptive and concise."
   ]
  },
  {
   "cell_type": "code",
   "execution_count": 5,
   "metadata": {
    "collapsed": false
   },
   "outputs": [],
   "source": [
    "# Your code goes here.\n"
   ]
  },
  {
   "cell_type": "markdown",
   "metadata": {},
   "source": [
    "Depending on how you answered the previous question, there is a chance that some of the entries of your DataFrame contain *null* values. There is a convenient method for DataFrames called ```isnull()``` which you can use to check this. "
   ]
  },
  {
   "cell_type": "markdown",
   "metadata": {},
   "source": [
    "## Task #4 [5%]:\n",
    "\n",
    "Find out how many *null* values there are in the DataFrame. \n",
    "\n",
    "Using your method of choice (e.g., interpolation) fill those values so that they don't exist anymore and make a copy of the resulting DataFrame.\n",
    "\n",
    "Comment on why these *null* values showed up.\n"
   ]
  },
  {
   "cell_type": "code",
   "execution_count": 6,
   "metadata": {
    "collapsed": true
   },
   "outputs": [],
   "source": [
    "# Your code goes here...\n"
   ]
  }
 ],
 "metadata": {
  "anaconda-cloud": {},
  "kernelspec": {
   "display_name": "Python [conda root]",
   "language": "python",
   "name": "conda-root-py"
  },
  "language_info": {
   "codemirror_mode": {
    "name": "ipython",
    "version": 3
   },
   "file_extension": ".py",
   "mimetype": "text/x-python",
   "name": "python",
   "nbconvert_exporter": "python",
   "pygments_lexer": "ipython3",
   "version": "3.5.2"
  }
 },
 "nbformat": 4,
 "nbformat_minor": 1
}
