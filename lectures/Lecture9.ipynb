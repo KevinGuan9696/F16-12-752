{
 "cells": [
  {
   "cell_type": "markdown",
   "metadata": {},
   "source": [
    "# Lecture \\#9: Dynamic Time Warping"
   ]
  },
  {
   "cell_type": "code",
   "execution_count": 36,
   "metadata": {
    "collapsed": true
   },
   "outputs": [],
   "source": [
    "import math\n",
    "import numpy as np\n",
    "import matplotlib.pyplot as plt\n",
    "import pandas as pd\n",
    "\n",
    "#x = np.array(np.random.normal(0,1,size=(1000,1))).reshape(-1, 1)\n",
    "#y = np.array(np.random.normal(0,1,size=(1000,1))).reshape(-1, 1)\n",
    "x = np.array([0, 0, 1, 1, 2, 4, 2, 1, 2, 0]).reshape(-1,1)\n",
    "y = np.array([1, 1, 1, 2, 2, 2, 2, 3, 2, 0]).reshape(-1,1)"
   ]
  },
  {
   "cell_type": "code",
   "execution_count": 37,
   "metadata": {
    "collapsed": false
   },
   "outputs": [
    {
     "data": {
      "image/png": "[encoded data removed]",
      "text/plain": [
       "<matplotlib.figure.Figure at 0x115198ac8>"
      ]
     },
     "metadata": {},
     "output_type": "display_data"
    }
   ],
   "source": [
    "plt.plot(x,'b')\n",
    "plt.plot(y,'r')\n",
    "plt.show()"
   ]
  },
  {
   "cell_type": "code",
   "execution_count": 55,
   "metadata": {
    "collapsed": false
   },
   "outputs": [],
   "source": [
    "def dtw(x,y, d = lambda i,j: np.linalg.norm(i - j)):\n",
    "    M = len(x)\n",
    "    N = len(y)\n",
    "    D = np.zeros((M,N))\n",
    "    \n",
    "    #C = np.zeros((len(x),len(y)))\n",
    "    \n",
    "    #for m in range(len(x)):\n",
    "    #    for n in range(len(y)):\n",
    "    #        C[m][n] = d(x[m],y[n])\n",
    "       \n",
    "    for m in range(len(x)):\n",
    "        for n in range(len(y)):\n",
    "            if (m == 0 and n == 0):\n",
    "                D[m][n] = d(x[m],y[n])  \n",
    "            elif m == 0 and n > 0:\n",
    "                D[m][n] = d(x[m],y[n]) + D[m][n-1]\n",
    "            elif m > 0 and n == 0:\n",
    "                D[m][n] = d(x[m],y[n]) + D[m-1][n]\n",
    "            else:\n",
    "                D[m][n] = d(x[m],y[n]) + np.min([D[m-1][n], D[m][n-1], D[m-1][n-1]]) \n",
    "\n",
    "    p = [(M,N)]\n",
    "    m = p[-1][0]\n",
    "    n = p[-1][1]\n",
    "    #while (m != 0 and m !=0):        \n",
    "    #    options = [[D[m-1][n], D[m][n-1], D[m-1][n-1]],[(m-1,n),(m,n-1),(m-1,n-1)]]\n",
    "    #    print(options)\n",
    "    #    p.append(options[np.argmin(options[:,0])][1])\n",
    "    #    m = p[-1][0]\n",
    "    #    n = p[-1][1]\n",
    "    #p.append((0,0))           \n",
    "                \n",
    "    optimal_cost = D[-1][-1]\n",
    "    \n",
    "    return [optimal_cost, p, D]"
   ]
  },
  {
   "cell_type": "code",
   "execution_count": 56,
   "metadata": {
    "collapsed": false
   },
   "outputs": [],
   "source": [
    "optimal_cost, local_cost, accumulative_cost = dtw(x,y)"
   ]
  },
  {
   "cell_type": "code",
   "execution_count": 57,
   "metadata": {
    "collapsed": false
   },
   "outputs": [
    {
     "data": {
      "image/png": "[encoded data removed]",
      "text/plain": [
       "<matplotlib.figure.Figure at 0x1161a3940>"
      ]
     },
     "metadata": {},
     "output_type": "display_data"
    }
   ],
   "source": [
    "%matplotlib inline\n",
    "plt.imshow(accumulative_cost,origin='lower',interpolation='nearest')\n",
    "plt.colorbar()\n",
    "plt.show()"
   ]
  },
  {
   "cell_type": "code",
   "execution_count": null,
   "metadata": {
    "collapsed": true
   },
   "outputs": [],
   "source": []
  }
 ],
 "metadata": {
  "anaconda-cloud": {},
  "kernelspec": {
   "display_name": "Python [conda root]",
   "language": "python",
   "name": "conda-root-py"
  },
  "language_info": {
   "codemirror_mode": {
    "name": "ipython",
    "version": 3
   },
   "file_extension": ".py",
   "mimetype": "text/x-python",
   "name": "python",
   "nbconvert_exporter": "python",
   "pygments_lexer": "ipython3",
   "version": "3.5.2"
  }
 },
 "nbformat": 4,
 "nbformat_minor": 1
}
